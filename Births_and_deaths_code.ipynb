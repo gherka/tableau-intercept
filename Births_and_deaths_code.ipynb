{
 "cells": [
  {
   "cell_type": "code",
   "execution_count": 1,
   "metadata": {
    "collapsed": true
   },
   "outputs": [],
   "source": [
    "#Note that shapely isn't part of the default Anaconda distribution. See library website for download instructions.\n",
    "\n",
    "import pandas as pd\n",
    "import numpy as np\n",
    "import matplotlib.pyplot as plt\n",
    "from shapely.geometry import LineString\n",
    "from datetime import datetime\n",
    "\n",
    "%matplotlib inline"
   ]
  },
  {
   "cell_type": "code",
   "execution_count": 2,
   "metadata": {
    "collapsed": false
   },
   "outputs": [],
   "source": [
    "#read the data from github repo\n",
    "csv_path = 'https://raw.githubusercontent.com/gherka/tableau-intercept/master/births_and_deaths.csv'"
   ]
  },
  {
   "cell_type": "code",
   "execution_count": 3,
   "metadata": {
    "collapsed": false
   },
   "outputs": [],
   "source": [
    "df = pd.read_csv(csv_path)"
   ]
  },
  {
   "cell_type": "code",
   "execution_count": 4,
   "metadata": {
    "collapsed": false
   },
   "outputs": [],
   "source": [
    "#make sure the year column is treated as a date\n",
    "df['reg_year'] = pd.to_datetime(df['reg_year'])"
   ]
  },
  {
   "cell_type": "code",
   "execution_count": 5,
   "metadata": {
    "collapsed": false,
    "scrolled": false
   },
   "outputs": [
    {
     "name": "stdout",
     "output_type": "stream",
     "text": [
      "done\n"
     ]
    }
   ],
   "source": [
    "#create an empty DF to fill\n",
    "\n",
    "cols = ['reg_year', 'council_area', 'poly_y', 'path_id', 'poly_id', 'poly_colour', 'births_y', 'deaths_y', \n",
    "       'last_intersection_x', 'last_intersection_y']\n",
    "df_final = pd.DataFrame(columns=cols)\n",
    "\n",
    "#Iterate over DFs made from individual council areas. If there are other levels, set up loops accordingly. Make sure\n",
    "#the main loop is the innermost.\n",
    "\n",
    "polygon_id = 1\n",
    "\n",
    "for council, council_df in df.groupby(['council_area']):\n",
    "    \n",
    "    #clear the coordinate lists before starting a new council area\n",
    "    \n",
    "    poly_x = []\n",
    "    poly_y = []\n",
    "    path_order = []\n",
    "    poly_id = []\n",
    "    poly_colour = []\n",
    "    births_final = []\n",
    "    deaths_final = []\n",
    "    \n",
    "    x_temp = []\n",
    "    births_y_temp = []\n",
    "    deaths_y_temp = []\n",
    "    poly_y_temp = []\n",
    "\n",
    "#main loop begins. Process 2 rows at the same time.\n",
    "\n",
    "    for i in range(len(council_df)-1):\n",
    "\n",
    "        births_y1 = council_df['pct_births'].iloc[i]\n",
    "        births_y2 = council_df['pct_births'].iloc[i+1]\n",
    "        deaths_y1 = council_df['pct_deaths'].iloc[i]\n",
    "        deaths_y2 = council_df['pct_deaths'].iloc[i+1]\n",
    "        x1 = council_df['reg_year'].iloc[i].timestamp() #convert date to timestamp for calculations\n",
    "        x2 = council_df['reg_year'].iloc[i+1].timestamp()\n",
    "\n",
    "        line1 = LineString([(x1,births_y1), (x2,births_y2)])\n",
    "        line2 = LineString([(x1,deaths_y1), (x2,deaths_y2)])\n",
    "\n",
    "        xcom = line1.intersection(line2)\n",
    "\n",
    "        #If i is at the end, create the last open-ended polygon\n",
    "\n",
    "        if i == len(council_df)-2:\n",
    "\n",
    "            x_temp = x_temp + list(reversed(x_temp))\n",
    "            poly_x.extend(x_temp)\n",
    "            path_order.extend(list(range(1, len(x_temp)+1)))\n",
    "            poly_id.extend([polygon_id]*(len(x_temp)))\n",
    "\n",
    "            births_final.extend(births_y_temp + list(reversed(births_y_temp)))        \n",
    "            deaths_final.extend(deaths_y_temp + list(reversed(deaths_y_temp)))\n",
    "\n",
    "            poly_y_temp = births_y_temp + list(reversed(deaths_y_temp))\n",
    "            poly_y.extend(poly_y_temp)\n",
    "\n",
    "            if births_y1 > deaths_y1:\n",
    "\n",
    "                poly_colour.extend([1]*(len(poly_y_temp)))\n",
    "\n",
    "            else:\n",
    "\n",
    "                poly_colour.extend([0]*(len(poly_y_temp)))\n",
    "                \n",
    "        else:\n",
    "\n",
    "\n",
    "            if xcom.is_empty:\n",
    "\n",
    "                births_y_temp.extend([births_y1, births_y2])\n",
    "                deaths_y_temp.extend([deaths_y1, deaths_y2])\n",
    "                x_temp.extend([x1, x2])\n",
    "\n",
    "            else:\n",
    "\n",
    "                #create poly_x\n",
    "                \n",
    "                #if intesection appears between the first two line segments, include x1, y1 in temp lists\n",
    "                \n",
    "                if i == 0:\n",
    "                    \n",
    "                    x_temp.append(x1)\n",
    "                    births_y_temp.append(births_y1)\n",
    "                    deaths_y_temp.append(deaths_y1)\n",
    "            \n",
    "\n",
    "                x_temp.append(xcom.x)\n",
    "                x_temp = x_temp[:-1]+list(reversed(x_temp))\n",
    "                poly_x.extend(x_temp)\n",
    "\n",
    "                #write polygon parameters\n",
    "\n",
    "                path_order.extend(list(range(1, len(x_temp)+1)))\n",
    "                poly_id.extend([polygon_id]*(len(x_temp)))\n",
    "                polygon_id += 1\n",
    "\n",
    "                #flush x_temp\n",
    "\n",
    "                x_temp = []\n",
    "\n",
    "                #create new and return original lines in a matching order with poly_x\n",
    "\n",
    "                births_y_temp.append(xcom.y)       \n",
    "                births_final.extend(births_y_temp[:-1] + list(reversed(births_y_temp)))\n",
    "\n",
    "                deaths_y_temp.append(xcom.y)\n",
    "                deaths_final.extend(deaths_y_temp[:-1] + list(reversed(deaths_y_temp)))\n",
    "\n",
    "                #create polygon y values\n",
    "\n",
    "                poly_y_temp = births_y_temp[:-1] + list(reversed(deaths_y_temp))\n",
    "                poly_y.extend(poly_y_temp)\n",
    "\n",
    "                #add colour flag\n",
    "\n",
    "                if births_y1 > deaths_y1:\n",
    "\n",
    "                    poly_colour.extend([1]*(len(poly_y_temp)))\n",
    "\n",
    "                else:\n",
    "\n",
    "                    poly_colour.extend([0]*(len(poly_y_temp)))\n",
    "\n",
    "                #flush y temps\n",
    "\n",
    "                births_y_temp = []\n",
    "                deaths_y_temp = []\n",
    "                poly_y_temp = []\n",
    "\n",
    "                #start new polygon\n",
    "\n",
    "                x_temp.extend([xcom.x, x2])\n",
    "                births_y_temp.extend([xcom.y, births_y2])\n",
    "                deaths_y_temp.extend([xcom.y, deaths_y2])\n",
    "                \n",
    "                last_intersection_x = datetime.fromtimestamp(xcom.x)\n",
    "                last_intersection_y = xcom.y\n",
    "    \n",
    "    #return the dates back from timestamp() and write the temporary DF and add it to the final DF\n",
    "    \n",
    "    new_dates = []\n",
    "\n",
    "    for d in poly_x:\n",
    "        new_dates.append(datetime.fromtimestamp(d))\n",
    "\n",
    "    temp_df = pd.DataFrame({'reg_year':new_dates, 'poly_y':poly_y, 'path_id':path_order,\n",
    "                        'poly_id':poly_id, 'poly_colour': poly_colour, 'council_area':council,\n",
    "                       'births_y':births_final, 'deaths_y': deaths_final,\n",
    "                           'last_intersection_x':last_intersection_x,\n",
    "                           'last_intersection_y':last_intersection_y})\n",
    "\n",
    "    df_final = df_final.append(temp_df)\n",
    "    \n",
    "print('done')"
   ]
  },
  {
   "cell_type": "code",
   "execution_count": 6,
   "metadata": {
    "collapsed": true
   },
   "outputs": [],
   "source": [
    "#if you want, can do a left join to include any extra information in the polygon DF (to use in tooltips, for example)\n",
    "\n",
    "df_final = df_final.merge(df[['council_area','reg_year','num_births','num_deaths']], how='left', on=['council_area', 'reg_year'])"
   ]
  },
  {
   "cell_type": "code",
   "execution_count": 7,
   "metadata": {
    "collapsed": false
   },
   "outputs": [],
   "source": [
    "df_final.to_csv(r'E:\\Python\\work\\area chart\\city_polygons.csv', index=False)"
   ]
  }
 ],
 "metadata": {
  "kernelspec": {
   "display_name": "Python 3",
   "language": "python",
   "name": "python3"
  },
  "language_info": {
   "codemirror_mode": {
    "name": "ipython",
    "version": 3
   },
   "file_extension": ".py",
   "mimetype": "text/x-python",
   "name": "python",
   "nbconvert_exporter": "python",
   "pygments_lexer": "ipython3",
   "version": "3.6.0"
  }
 },
 "nbformat": 4,
 "nbformat_minor": 1
}

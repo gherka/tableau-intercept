{
 "cells": [
  {
   "cell_type": "code",
   "execution_count": 12,
   "metadata": {
    "collapsed": true
   },
   "outputs": [],
   "source": [
    "import pandas as pd\n",
    "import numpy as np\n",
    "import matplotlib.pyplot as plt\n",
    "from shapely.geometry import LineString\n",
    "from datetime import datetime\n",
    "\n",
    "%matplotlib inline"
   ]
  },
  {
   "cell_type": "code",
   "execution_count": 13,
   "metadata": {
    "collapsed": true
   },
   "outputs": [],
   "source": [
    "path = r'E:\\Python\\work\\area chart\\Unified Data.xlsx'\n",
    "\n",
    "df = pd.read_excel(path)"
   ]
  },
  {
   "cell_type": "code",
   "execution_count": 14,
   "metadata": {
    "collapsed": false
   },
   "outputs": [],
   "source": [
    "#limit the data to just Scotland and two measures.\n",
    "\n",
    "df = df[df['Location'] == 'NHS Scotland']\n",
    "df = df[df['Measure Name'].isin(['Outpatient New', 'Outpatient Returns'])]"
   ]
  },
  {
   "cell_type": "code",
   "execution_count": 15,
   "metadata": {
    "collapsed": false
   },
   "outputs": [],
   "source": [
    "#calculate percent and absolute differences\n",
    "\n",
    "group_lst = ['Location', 'Group', 'Speciality', 'Measure Name']\n",
    "\n",
    "df['pct_diff'] = df.sort_values('Date').groupby(group_lst)['Measure Value'].pct_change()\n",
    "df['abs_diff'] = df.sort_values('Date').groupby(group_lst)['Measure Value'].diff()"
   ]
  },
  {
   "cell_type": "code",
   "execution_count": 16,
   "metadata": {
    "collapsed": false
   },
   "outputs": [],
   "source": [
    "#test results\n",
    "#df.groupby(['Location', 'Group', 'Speciality', 'Measure Name', 'Date']).min()"
   ]
  },
  {
   "cell_type": "code",
   "execution_count": 17,
   "metadata": {
    "collapsed": false
   },
   "outputs": [
    {
     "data": {
      "text/plain": [
       "[<matplotlib.lines.Line2D at 0x9531fd0>]"
      ]
     },
     "execution_count": 17,
     "metadata": {},
     "output_type": "execute_result"
    },
    {
     "data": {
      "image/png": "[encoded data removed]",
      "text/plain": [
       "<matplotlib.figure.Figure at 0x95245c0>"
      ]
     },
     "metadata": {},
     "output_type": "display_data"
    }
   ],
   "source": [
    "#create masks for filtering\n",
    "\n",
    "mask_new = (df['Speciality'] == 'All Specialties') & (df['Measure Name'] == 'Outpatient New')\n",
    "mask_return = (df['Speciality'] == 'All Specialties') & (df['Measure Name'] == 'Outpatient Returns')\n",
    "\n",
    "#don't forget to sort!\n",
    "\n",
    "x = np.array(sorted(df[mask_new].Date.values))\n",
    "\n",
    "f = df[mask_new].sort_values(['Date']).pct_diff.values\n",
    "\n",
    "g = df[mask_return].sort_values(['Date']).pct_diff.values\n",
    "\n",
    "#plot\n",
    "\n",
    "plt.style.use('ggplot')\n",
    "\n",
    "plt.plot(x, f, '-')\n",
    "plt.plot(x, g, '-')\n"
   ]
  },
  {
   "cell_type": "code",
   "execution_count": 18,
   "metadata": {
    "collapsed": false
   },
   "outputs": [],
   "source": [
    "df_grp = df.groupby(['Location', 'Group', 'Speciality','Date', 'Measure Name']).min()"
   ]
  },
  {
   "cell_type": "code",
   "execution_count": 19,
   "metadata": {
    "collapsed": false,
    "scrolled": true
   },
   "outputs": [
    {
     "data": {
      "text/html": [
       "<div>\n",
       "<table border=\"1\" class=\"dataframe\">\n",
       "  <thead>\n",
       "    <tr style=\"text-align: right;\">\n",
       "      <th></th>\n",
       "      <th></th>\n",
       "      <th></th>\n",
       "      <th></th>\n",
       "      <th></th>\n",
       "      <th>Measure Value</th>\n",
       "      <th>pct_diff</th>\n",
       "      <th>abs_diff</th>\n",
       "    </tr>\n",
       "    <tr>\n",
       "      <th>Location</th>\n",
       "      <th>Group</th>\n",
       "      <th>Speciality</th>\n",
       "      <th>Date</th>\n",
       "      <th>Measure Name</th>\n",
       "      <th></th>\n",
       "      <th></th>\n",
       "      <th></th>\n",
       "    </tr>\n",
       "  </thead>\n",
       "  <tbody>\n",
       "    <tr>\n",
       "      <th rowspan=\"10\" valign=\"top\">NHS Scotland</th>\n",
       "      <th rowspan=\"10\" valign=\"top\">All Specialties</th>\n",
       "      <th rowspan=\"10\" valign=\"top\">All Specialties</th>\n",
       "      <th rowspan=\"2\" valign=\"top\">2011-12-01</th>\n",
       "      <th>Outpatient New</th>\n",
       "      <td>359826.0</td>\n",
       "      <td>NaN</td>\n",
       "      <td>NaN</td>\n",
       "    </tr>\n",
       "    <tr>\n",
       "      <th>Outpatient Returns</th>\n",
       "      <td>564882.0</td>\n",
       "      <td>NaN</td>\n",
       "      <td>NaN</td>\n",
       "    </tr>\n",
       "    <tr>\n",
       "      <th rowspan=\"2\" valign=\"top\">2012-03-01</th>\n",
       "      <th>Outpatient New</th>\n",
       "      <td>369270.0</td>\n",
       "      <td>0.026246</td>\n",
       "      <td>9444.0</td>\n",
       "    </tr>\n",
       "    <tr>\n",
       "      <th>Outpatient Returns</th>\n",
       "      <td>604011.0</td>\n",
       "      <td>0.069269</td>\n",
       "      <td>39129.0</td>\n",
       "    </tr>\n",
       "    <tr>\n",
       "      <th rowspan=\"2\" valign=\"top\">2012-06-01</th>\n",
       "      <th>Outpatient New</th>\n",
       "      <td>357867.0</td>\n",
       "      <td>-0.030880</td>\n",
       "      <td>-11403.0</td>\n",
       "    </tr>\n",
       "    <tr>\n",
       "      <th>Outpatient Returns</th>\n",
       "      <td>599442.0</td>\n",
       "      <td>-0.007564</td>\n",
       "      <td>-4569.0</td>\n",
       "    </tr>\n",
       "    <tr>\n",
       "      <th rowspan=\"2\" valign=\"top\">2012-09-01</th>\n",
       "      <th>Outpatient New</th>\n",
       "      <td>362049.0</td>\n",
       "      <td>0.011686</td>\n",
       "      <td>4182.0</td>\n",
       "    </tr>\n",
       "    <tr>\n",
       "      <th>Outpatient Returns</th>\n",
       "      <td>598640.0</td>\n",
       "      <td>-0.001338</td>\n",
       "      <td>-802.0</td>\n",
       "    </tr>\n",
       "    <tr>\n",
       "      <th rowspan=\"2\" valign=\"top\">2012-12-01</th>\n",
       "      <th>Outpatient New</th>\n",
       "      <td>367477.0</td>\n",
       "      <td>0.014992</td>\n",
       "      <td>5428.0</td>\n",
       "    </tr>\n",
       "    <tr>\n",
       "      <th>Outpatient Returns</th>\n",
       "      <td>611972.0</td>\n",
       "      <td>0.022270</td>\n",
       "      <td>13332.0</td>\n",
       "    </tr>\n",
       "  </tbody>\n",
       "</table>\n",
       "</div>"
      ],
      "text/plain": [
       "                                                                            Measure Value  \\\n",
       "Location     Group           Speciality      Date       Measure Name                        \n",
       "NHS Scotland All Specialties All Specialties 2011-12-01 Outpatient New           359826.0   \n",
       "                                                        Outpatient Returns       564882.0   \n",
       "                                             2012-03-01 Outpatient New           369270.0   \n",
       "                                                        Outpatient Returns       604011.0   \n",
       "                                             2012-06-01 Outpatient New           357867.0   \n",
       "                                                        Outpatient Returns       599442.0   \n",
       "                                             2012-09-01 Outpatient New           362049.0   \n",
       "                                                        Outpatient Returns       598640.0   \n",
       "                                             2012-12-01 Outpatient New           367477.0   \n",
       "                                                        Outpatient Returns       611972.0   \n",
       "\n",
       "                                                                            pct_diff  \\\n",
       "Location     Group           Speciality      Date       Measure Name                   \n",
       "NHS Scotland All Specialties All Specialties 2011-12-01 Outpatient New           NaN   \n",
       "                                                        Outpatient Returns       NaN   \n",
       "                                             2012-03-01 Outpatient New      0.026246   \n",
       "                                                        Outpatient Returns  0.069269   \n",
       "                                             2012-06-01 Outpatient New     -0.030880   \n",
       "                                                        Outpatient Returns -0.007564   \n",
       "                                             2012-09-01 Outpatient New      0.011686   \n",
       "                                                        Outpatient Returns -0.001338   \n",
       "                                             2012-12-01 Outpatient New      0.014992   \n",
       "                                                        Outpatient Returns  0.022270   \n",
       "\n",
       "                                                                            abs_diff  \n",
       "Location     Group           Speciality      Date       Measure Name                  \n",
       "NHS Scotland All Specialties All Specialties 2011-12-01 Outpatient New           NaN  \n",
       "                                                        Outpatient Returns       NaN  \n",
       "                                             2012-03-01 Outpatient New        9444.0  \n",
       "                                                        Outpatient Returns   39129.0  \n",
       "                                             2012-06-01 Outpatient New      -11403.0  \n",
       "                                                        Outpatient Returns   -4569.0  \n",
       "                                             2012-09-01 Outpatient New        4182.0  \n",
       "                                                        Outpatient Returns    -802.0  \n",
       "                                             2012-12-01 Outpatient New        5428.0  \n",
       "                                                        Outpatient Returns   13332.0  "
      ]
     },
     "execution_count": 19,
     "metadata": {},
     "output_type": "execute_result"
    }
   ],
   "source": [
    "df_grp.head(10)"
   ]
  },
  {
   "cell_type": "code",
   "execution_count": 64,
   "metadata": {
    "collapsed": false,
    "scrolled": false
   },
   "outputs": [
    {
     "name": "stdout",
     "output_type": "stream",
     "text": [
      "done\n"
     ]
    }
   ],
   "source": [
    "#think of odd/even number of dates and how it affects the counters\n",
    "\n",
    "#create polygon geometry for import to Tableau.\n",
    "\n",
    "y_list = range(len(df_grp)-2) #subtract two to stop the counter.\n",
    "x_list = range(len(df_grp.index.get_level_values('Date')))\n",
    "\n",
    "#define polygon coordinate lists\n",
    "\n",
    "\n",
    "x_temp = []\n",
    "poly_y_temp = []\n",
    "new_y_temp = []\n",
    "return_y_temp = []\n",
    "\n",
    "poly_y = []\n",
    "poly_x = []\n",
    "new_final = []\n",
    "return_final = []\n",
    "\n",
    "\n",
    "#define polygon parameters\n",
    "poly_id = []\n",
    "path_order = []\n",
    "poly_colour =[]\n",
    "\n",
    "polygon_id = 1\n",
    "\n",
    "for i,j in zip(y_list[2::2], x_list[2::2]): #start from the 2nd position where dealing with change values.\n",
    "\n",
    "    new_y1 = df_grp['pct_diff'].iloc[i]\n",
    "    new_y2 = df_grp['pct_diff'].iloc[i+2]\n",
    "    return_y1 = df_grp['pct_diff'].iloc[i+1]\n",
    "    return_y2 = df_grp['pct_diff'].iloc[i+3]\n",
    "    x1 = df_grp.index.get_level_values('Date')[j].timestamp()\n",
    "    x2 = df_grp.index.get_level_values('Date')[j+2].timestamp()\n",
    "    \n",
    "    line1 = LineString([(x1,new_y1), (x2,new_y2)])\n",
    "    line2 = LineString([(x1,return_y1), (x2,return_y2)])\n",
    "    \n",
    "    xcom = line1.intersection(line2)\n",
    "    \n",
    "    if xcom.is_empty:\n",
    "        \n",
    "        new_y_temp.extend([new_y1, new_y2])\n",
    "        return_y_temp.extend([return_y1, return_y2])\n",
    "        x_temp.extend([x1, x2])\n",
    "    \n",
    "    else:\n",
    "        \n",
    "        #create poly_x\n",
    "        \n",
    "        x_temp.append(xcom.x)\n",
    "        x_temp = x_temp[:-1]+list(reversed(x_temp))\n",
    "        poly_x.extend(x_temp)\n",
    "        \n",
    "        #write polygon parameters\n",
    "        \n",
    "        path_order.extend(list(range(1, len(x_temp)+1)))\n",
    "        poly_id.extend([polygon_id]*(len(x_temp)))\n",
    "        polygon_id += 1\n",
    "        \n",
    "        #flush x_temp\n",
    "        \n",
    "        x_temp = []\n",
    "        \n",
    "        #create new and return original lines in a matching order with poly_x\n",
    "        \n",
    "        new_y_temp.append(xcom.y)       \n",
    "        new_final.extend(new_y_temp[:-1] + list(reversed(new_y_temp)))\n",
    "        \n",
    "        return_y_temp.append(xcom.y)\n",
    "        return_final.extend(return_y_temp[:-1] + list(reversed(return_y_temp)))\n",
    "        \n",
    "        #create polygon y values\n",
    "        \n",
    "        poly_y_temp = new_y_temp[:-1] + list(reversed(return_y_temp))\n",
    "        poly_y.extend(poly_y_temp)\n",
    "                \n",
    "        #add colour flag\n",
    "        \n",
    "        if new_y1 > return_y1:\n",
    "            \n",
    "            poly_colour.extend([1]*(len(poly_y_temp)))\n",
    "            \n",
    "        else:\n",
    "            \n",
    "            poly_colour.extend([0]*(len(poly_y_temp)))\n",
    "                \n",
    "        #flush all temps\n",
    "        \n",
    "        new_y_temp = []\n",
    "        return_y_temp = []\n",
    "        poly_y_temp = []\n",
    "        \n",
    "        #start new polygon\n",
    "        \n",
    "        x_temp.extend([xcom.x, x2])\n",
    "        new_y_temp.extend([xcom.y, new_y2])\n",
    "        return_y_temp.extend([xcom.y, return_y2])\n",
    "\n",
    "print('done')"
   ]
  },
  {
   "cell_type": "code",
   "execution_count": 69,
   "metadata": {
    "collapsed": false
   },
   "outputs": [],
   "source": [
    "#fix the dates and export\n",
    "\n",
    "new_dates = []\n",
    "\n",
    "for d in poly_x:\n",
    "    new_dates.append(datetime.fromtimestamp(d))\n",
    "\n",
    "poly_df = pd.DataFrame({'date':new_dates, 'poly_y':poly_y, 'path_id':path_order,\n",
    "                        'poly_id':poly_id, 'poly_colour': poly_colour,\n",
    "                       'new_y':new_final, 'return_y': return_final})\n",
    "\n",
    "poly_df.to_csv(r'E:\\Python\\work\\area chart\\poly_test_v2.csv', index=False)"
   ]
  }
 ],
 "metadata": {
  "kernelspec": {
   "display_name": "Python 3",
   "language": "python",
   "name": "python3"
  },
  "language_info": {
   "codemirror_mode": {
    "name": "ipython",
    "version": 3
   },
   "file_extension": ".py",
   "mimetype": "text/x-python",
   "name": "python",
   "nbconvert_exporter": "python",
   "pygments_lexer": "ipython3",
   "version": "3.6.0"
  }
 },
 "nbformat": 4,
 "nbformat_minor": 1
}

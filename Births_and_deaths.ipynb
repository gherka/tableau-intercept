{
 "cells": [
  {
   "cell_type": "code",
   "execution_count": 1,
   "metadata": {
    "collapsed": true
   },
   "outputs": [],
   "source": [
    "import pandas as pd\n",
    "import numpy as np\n",
    "import matplotlib.pyplot as plt\n",
    "from shapely.geometry import LineString\n",
    "from datetime import datetime\n",
    "\n",
    "%matplotlib inline"
   ]
  },
  {
   "cell_type": "code",
   "execution_count": 3,
   "metadata": {
    "collapsed": false
   },
   "outputs": [],
   "source": [
    "#You know Excel is crap at .csv so just let pandas handle the conversion\n",
    "\n",
    "excel_path = r'E:\\Python\\work\\area chart\\births_and_deaths.xlsx'\n",
    "csv_path = r'E:\\Python\\work\\area chart\\births_and_deaths.csv'\n",
    "\n",
    "df = pd.read_excel(excel_path)\n",
    "df.to_csv(csv_path, index=False)"
   ]
  },
  {
   "cell_type": "code",
   "execution_count": 4,
   "metadata": {
    "collapsed": false
   },
   "outputs": [],
   "source": [
    "df = pd.read_csv(csv_path)"
   ]
  },
  {
   "cell_type": "code",
   "execution_count": 5,
   "metadata": {
    "collapsed": false
   },
   "outputs": [],
   "source": [
    "#Tidy up column names and formatting\n",
    "\n",
    "df['str_year'] = '01/01/' + df['Year of registration'].astype(str)\n",
    "\n",
    "df['reg_year'] = pd.to_datetime(df['str_year'])\n",
    "\n",
    "df.rename(columns={'Council Area': 'council_area', 'Births': 'num_births', 'Deaths':'num_deaths'}, inplace=True)\n",
    "\n",
    "df.drop(['Year of registration', 'str_year'], axis=1, inplace=True)"
   ]
  },
  {
   "cell_type": "code",
   "execution_count": 6,
   "metadata": {
    "collapsed": false
   },
   "outputs": [],
   "source": [
    "#calculate percent of total for deaths and births for each year\n",
    "\n",
    "df['pct_births'] = df['num_births'] / (df['num_births'] + df['num_deaths'])\n",
    "df['pct_deaths'] = df['num_deaths'] / (df['num_births'] + df['num_deaths'])"
   ]
  },
  {
   "cell_type": "code",
   "execution_count": 7,
   "metadata": {
    "collapsed": false
   },
   "outputs": [
    {
     "data": {
      "text/plain": [
       "[<matplotlib.lines.Line2D at 0x96e5978>]"
      ]
     },
     "execution_count": 7,
     "metadata": {},
     "output_type": "execute_result"
    },
    {
     "data": {
      "image/png": "[encoded data removed]",
      "text/plain": [
       "<matplotlib.figure.Figure at 0x96d5cc0>"
      ]
     },
     "metadata": {},
     "output_type": "display_data"
    }
   ],
   "source": [
    "#create masks for filtering\n",
    "\n",
    "mask = df['council_area'] == 'Aberdeen City'\n",
    "\n",
    "#don't forget to sort!\n",
    "\n",
    "x = np.array(sorted(df[mask].reg_year.values))\n",
    "\n",
    "f = df[mask].sort_values(['reg_year']).pct_births.values\n",
    "\n",
    "g = df[mask].sort_values(['reg_year']).pct_deaths.values\n",
    "\n",
    "#plot for reference\n",
    "\n",
    "plt.style.use('ggplot')\n",
    "\n",
    "plt.plot(x, f, '-')\n",
    "plt.plot(x, g, '-')\n"
   ]
  },
  {
   "cell_type": "code",
   "execution_count": 8,
   "metadata": {
    "collapsed": false
   },
   "outputs": [],
   "source": [
    "df_grp = df[mask].groupby(['council_area', 'reg_year']).min()"
   ]
  },
  {
   "cell_type": "code",
   "execution_count": 9,
   "metadata": {
    "collapsed": false,
    "scrolled": true
   },
   "outputs": [
    {
     "data": {
      "text/html": [
       "<div>\n",
       "<table border=\"1\" class=\"dataframe\">\n",
       "  <thead>\n",
       "    <tr style=\"text-align: right;\">\n",
       "      <th></th>\n",
       "      <th></th>\n",
       "      <th>num_births</th>\n",
       "      <th>num_deaths</th>\n",
       "      <th>pct_births</th>\n",
       "      <th>pct_deaths</th>\n",
       "    </tr>\n",
       "    <tr>\n",
       "      <th>council_area</th>\n",
       "      <th>reg_year</th>\n",
       "      <th></th>\n",
       "      <th></th>\n",
       "      <th></th>\n",
       "      <th></th>\n",
       "    </tr>\n",
       "  </thead>\n",
       "  <tbody>\n",
       "    <tr>\n",
       "      <th rowspan=\"21\" valign=\"top\">Aberdeen City</th>\n",
       "      <th>1996-01-01</th>\n",
       "      <td>2402</td>\n",
       "      <td>2357</td>\n",
       "      <td>0.504728</td>\n",
       "      <td>0.495272</td>\n",
       "    </tr>\n",
       "    <tr>\n",
       "      <th>1997-01-01</th>\n",
       "      <td>2366</td>\n",
       "      <td>2249</td>\n",
       "      <td>0.512676</td>\n",
       "      <td>0.487324</td>\n",
       "    </tr>\n",
       "    <tr>\n",
       "      <th>1998-01-01</th>\n",
       "      <td>2339</td>\n",
       "      <td>2208</td>\n",
       "      <td>0.514405</td>\n",
       "      <td>0.485595</td>\n",
       "    </tr>\n",
       "    <tr>\n",
       "      <th>1999-01-01</th>\n",
       "      <td>2311</td>\n",
       "      <td>2322</td>\n",
       "      <td>0.498813</td>\n",
       "      <td>0.501187</td>\n",
       "    </tr>\n",
       "    <tr>\n",
       "      <th>2000-01-01</th>\n",
       "      <td>2088</td>\n",
       "      <td>2289</td>\n",
       "      <td>0.477039</td>\n",
       "      <td>0.522961</td>\n",
       "    </tr>\n",
       "    <tr>\n",
       "      <th>2001-01-01</th>\n",
       "      <td>2097</td>\n",
       "      <td>2190</td>\n",
       "      <td>0.489153</td>\n",
       "      <td>0.510847</td>\n",
       "    </tr>\n",
       "    <tr>\n",
       "      <th>2002-01-01</th>\n",
       "      <td>2098</td>\n",
       "      <td>2208</td>\n",
       "      <td>0.487227</td>\n",
       "      <td>0.512773</td>\n",
       "    </tr>\n",
       "    <tr>\n",
       "      <th>2003-01-01</th>\n",
       "      <td>2003</td>\n",
       "      <td>2176</td>\n",
       "      <td>0.479301</td>\n",
       "      <td>0.520699</td>\n",
       "    </tr>\n",
       "    <tr>\n",
       "      <th>2004-01-01</th>\n",
       "      <td>2075</td>\n",
       "      <td>2143</td>\n",
       "      <td>0.491939</td>\n",
       "      <td>0.508061</td>\n",
       "    </tr>\n",
       "    <tr>\n",
       "      <th>2005-01-01</th>\n",
       "      <td>2061</td>\n",
       "      <td>2121</td>\n",
       "      <td>0.492826</td>\n",
       "      <td>0.507174</td>\n",
       "    </tr>\n",
       "    <tr>\n",
       "      <th>2006-01-01</th>\n",
       "      <td>2200</td>\n",
       "      <td>2089</td>\n",
       "      <td>0.512940</td>\n",
       "      <td>0.487060</td>\n",
       "    </tr>\n",
       "    <tr>\n",
       "      <th>2007-01-01</th>\n",
       "      <td>2417</td>\n",
       "      <td>2180</td>\n",
       "      <td>0.525778</td>\n",
       "      <td>0.474222</td>\n",
       "    </tr>\n",
       "    <tr>\n",
       "      <th>2008-01-01</th>\n",
       "      <td>2596</td>\n",
       "      <td>2135</td>\n",
       "      <td>0.548721</td>\n",
       "      <td>0.451279</td>\n",
       "    </tr>\n",
       "    <tr>\n",
       "      <th>2009-01-01</th>\n",
       "      <td>2564</td>\n",
       "      <td>2056</td>\n",
       "      <td>0.554978</td>\n",
       "      <td>0.445022</td>\n",
       "    </tr>\n",
       "    <tr>\n",
       "      <th>2010-01-01</th>\n",
       "      <td>2599</td>\n",
       "      <td>2021</td>\n",
       "      <td>0.562554</td>\n",
       "      <td>0.437446</td>\n",
       "    </tr>\n",
       "    <tr>\n",
       "      <th>2011-01-01</th>\n",
       "      <td>2608</td>\n",
       "      <td>1973</td>\n",
       "      <td>0.569308</td>\n",
       "      <td>0.430692</td>\n",
       "    </tr>\n",
       "    <tr>\n",
       "      <th>2012-01-01</th>\n",
       "      <td>2688</td>\n",
       "      <td>2078</td>\n",
       "      <td>0.563995</td>\n",
       "      <td>0.436005</td>\n",
       "    </tr>\n",
       "    <tr>\n",
       "      <th>2013-01-01</th>\n",
       "      <td>2500</td>\n",
       "      <td>2047</td>\n",
       "      <td>0.549813</td>\n",
       "      <td>0.450187</td>\n",
       "    </tr>\n",
       "    <tr>\n",
       "      <th>2014-01-01</th>\n",
       "      <td>2565</td>\n",
       "      <td>2187</td>\n",
       "      <td>0.539773</td>\n",
       "      <td>0.460227</td>\n",
       "    </tr>\n",
       "    <tr>\n",
       "      <th>2015-01-01</th>\n",
       "      <td>2609</td>\n",
       "      <td>2187</td>\n",
       "      <td>0.543995</td>\n",
       "      <td>0.456005</td>\n",
       "    </tr>\n",
       "    <tr>\n",
       "      <th>2016-01-01</th>\n",
       "      <td>2521</td>\n",
       "      <td>2129</td>\n",
       "      <td>0.542151</td>\n",
       "      <td>0.457849</td>\n",
       "    </tr>\n",
       "  </tbody>\n",
       "</table>\n",
       "</div>"
      ],
      "text/plain": [
       "                          num_births  num_deaths  pct_births  pct_deaths\n",
       "council_area  reg_year                                                  \n",
       "Aberdeen City 1996-01-01        2402        2357    0.504728    0.495272\n",
       "              1997-01-01        2366        2249    0.512676    0.487324\n",
       "              1998-01-01        2339        2208    0.514405    0.485595\n",
       "              1999-01-01        2311        2322    0.498813    0.501187\n",
       "              2000-01-01        2088        2289    0.477039    0.522961\n",
       "              2001-01-01        2097        2190    0.489153    0.510847\n",
       "              2002-01-01        2098        2208    0.487227    0.512773\n",
       "              2003-01-01        2003        2176    0.479301    0.520699\n",
       "              2004-01-01        2075        2143    0.491939    0.508061\n",
       "              2005-01-01        2061        2121    0.492826    0.507174\n",
       "              2006-01-01        2200        2089    0.512940    0.487060\n",
       "              2007-01-01        2417        2180    0.525778    0.474222\n",
       "              2008-01-01        2596        2135    0.548721    0.451279\n",
       "              2009-01-01        2564        2056    0.554978    0.445022\n",
       "              2010-01-01        2599        2021    0.562554    0.437446\n",
       "              2011-01-01        2608        1973    0.569308    0.430692\n",
       "              2012-01-01        2688        2078    0.563995    0.436005\n",
       "              2013-01-01        2500        2047    0.549813    0.450187\n",
       "              2014-01-01        2565        2187    0.539773    0.460227\n",
       "              2015-01-01        2609        2187    0.543995    0.456005\n",
       "              2016-01-01        2521        2129    0.542151    0.457849"
      ]
     },
     "execution_count": 9,
     "metadata": {},
     "output_type": "execute_result"
    }
   ],
   "source": [
    "df_grp"
   ]
  },
  {
   "cell_type": "code",
   "execution_count": 19,
   "metadata": {
    "collapsed": false,
    "scrolled": true
   },
   "outputs": [
    {
     "name": "stdout",
     "output_type": "stream",
     "text": [
      "ha-ha\n",
      "done\n"
     ]
    }
   ],
   "source": [
    "#create polygon geometry for import to Tableau.\n",
    "\n",
    "#define polygon coordinate lists\n",
    "\n",
    "#Currently works to the n-1 polygons. Need to make sure the last polygon is captured too.\n",
    "\n",
    "x_temp = []\n",
    "poly_y_temp = []\n",
    "new_y_temp = []\n",
    "return_y_temp = []\n",
    "\n",
    "poly_y = []\n",
    "poly_x = []\n",
    "new_final = []\n",
    "return_final = []\n",
    "\n",
    "#define polygon parameters\n",
    "\n",
    "poly_id = []\n",
    "path_order = []\n",
    "poly_colour =[]\n",
    "\n",
    "polygon_id = 1\n",
    "\n",
    "\n",
    "#main loop\n",
    "\n",
    "for i in range(len(df_grp)-1):\n",
    "\n",
    "    new_y1 = df_grp['pct_births'].iloc[i]\n",
    "    new_y2 = df_grp['pct_births'].iloc[i+1]\n",
    "    return_y1 = df_grp['pct_deaths'].iloc[i]\n",
    "    return_y2 = df_grp['pct_deaths'].iloc[i+1]\n",
    "    x1 = df_grp.index.get_level_values('reg_year')[i].timestamp() #shapely needs it for calculations\n",
    "    x2 = df_grp.index.get_level_values('reg_year')[i+1].timestamp()\n",
    "    \n",
    "    line1 = LineString([(x1,new_y1), (x2,new_y2)])\n",
    "    line2 = LineString([(x1,return_y1), (x2,return_y2)])\n",
    "    \n",
    "    xcom = line1.intersection(line2)\n",
    "    \n",
    "    #If i is at the end, create the last polygon\n",
    "    \n",
    "    if i == len(df_grp)-2:\n",
    "        \n",
    "        x_temp = x_temp + list(reversed(x_temp))\n",
    "        poly_x.extend(x_temp)\n",
    "        path_order.extend(list(range(1, len(x_temp)+1)))\n",
    "        poly_id.extend([polygon_id]*(len(x_temp)))\n",
    "          \n",
    "        new_final.extend(new_y_temp + list(reversed(new_y_temp)))        \n",
    "        return_final.extend(return_y_temp + list(reversed(return_y_temp)))\n",
    "        \n",
    "        poly_y_temp = new_y_temp + list(reversed(return_y_temp))\n",
    "        poly_y.extend(poly_y_temp)\n",
    "        \n",
    "        if new_y1 > return_y1:\n",
    "            \n",
    "            poly_colour.extend([1]*(len(poly_y_temp)))\n",
    "            \n",
    "        else:\n",
    "            \n",
    "            poly_colour.extend([0]*(len(poly_y_temp)))\n",
    "    \n",
    "        print('ha-ha')\n",
    "    \n",
    "    else:\n",
    "        \n",
    "    \n",
    "        if xcom.is_empty:\n",
    "\n",
    "            new_y_temp.extend([new_y1, new_y2])\n",
    "            return_y_temp.extend([return_y1, return_y2])\n",
    "            x_temp.extend([x1, x2])\n",
    "\n",
    "        else:\n",
    "\n",
    "            #create poly_x\n",
    "\n",
    "            x_temp.append(xcom.x)\n",
    "            x_temp = x_temp[:-1]+list(reversed(x_temp))\n",
    "            poly_x.extend(x_temp)\n",
    "\n",
    "            #write polygon parameters\n",
    "\n",
    "            path_order.extend(list(range(1, len(x_temp)+1)))\n",
    "            poly_id.extend([polygon_id]*(len(x_temp)))\n",
    "            polygon_id += 1\n",
    "\n",
    "            #flush x_temp\n",
    "\n",
    "            x_temp = []\n",
    "\n",
    "            #create new and return original lines in a matching order with poly_x\n",
    "\n",
    "            new_y_temp.append(xcom.y)       \n",
    "            new_final.extend(new_y_temp[:-1] + list(reversed(new_y_temp)))\n",
    "\n",
    "            return_y_temp.append(xcom.y)\n",
    "            return_final.extend(return_y_temp[:-1] + list(reversed(return_y_temp)))\n",
    "\n",
    "            #create polygon y values\n",
    "\n",
    "            poly_y_temp = new_y_temp[:-1] + list(reversed(return_y_temp))\n",
    "            poly_y.extend(poly_y_temp)\n",
    "\n",
    "            #add colour flag\n",
    "\n",
    "            if new_y1 > return_y1:\n",
    "\n",
    "                poly_colour.extend([1]*(len(poly_y_temp)))\n",
    "\n",
    "            else:\n",
    "\n",
    "                poly_colour.extend([0]*(len(poly_y_temp)))\n",
    "\n",
    "            #flush all temps\n",
    "\n",
    "            new_y_temp = []\n",
    "            return_y_temp = []\n",
    "            poly_y_temp = []\n",
    "\n",
    "            #start new polygon\n",
    "\n",
    "            x_temp.extend([xcom.x, x2])\n",
    "            new_y_temp.extend([xcom.y, new_y2])\n",
    "            return_y_temp.extend([xcom.y, return_y2])\n",
    "\n",
    "print('done')"
   ]
  },
  {
   "cell_type": "code",
   "execution_count": 16,
   "metadata": {
    "collapsed": false
   },
   "outputs": [
    {
     "data": {
      "text/plain": [
       "3"
      ]
     },
     "execution_count": 16,
     "metadata": {},
     "output_type": "execute_result"
    }
   ],
   "source": [
    "polygon_id"
   ]
  },
  {
   "cell_type": "code",
   "execution_count": 20,
   "metadata": {
    "collapsed": false
   },
   "outputs": [],
   "source": [
    "#fix the dates and export\n",
    "\n",
    "new_dates = []\n",
    "\n",
    "for d in poly_x:\n",
    "    new_dates.append(datetime.fromtimestamp(d))\n",
    "\n",
    "poly_df = pd.DataFrame({'date':new_dates, 'poly_y':poly_y, 'path_id':path_order,\n",
    "                        'poly_id':poly_id, 'poly_colour': poly_colour,\n",
    "                       'new_y':new_final, 'return_y': return_final})\n",
    "\n",
    "poly_df.to_csv(r'E:\\Python\\work\\area chart\\aberdeen_polygons.csv', index=False)"
   ]
  }
 ],
 "metadata": {
  "kernelspec": {
   "display_name": "Python 3",
   "language": "python",
   "name": "python3"
  },
  "language_info": {
   "codemirror_mode": {
    "name": "ipython",
    "version": 3
   },
   "file_extension": ".py",
   "mimetype": "text/x-python",
   "name": "python",
   "nbconvert_exporter": "python",
   "pygments_lexer": "ipython3",
   "version": "3.6.0"
  }
 },
 "nbformat": 4,
 "nbformat_minor": 1
}
